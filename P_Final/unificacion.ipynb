{
 "cells": [
  {
   "cell_type": "code",
   "execution_count": 2,
   "metadata": {},
   "outputs": [],
   "source": [
    "import pandas as pd\n",
    "from glob import glob"
   ]
  },
  {
   "cell_type": "code",
   "execution_count": 3,
   "metadata": {},
   "outputs": [
    {
     "data": {
      "text/plain": [
       "['empleados\\\\empleados_sucursal_A.csv',\n",
       " 'empleados\\\\empleados_sucursal_B.csv',\n",
       " 'empleados\\\\empleados_sucursal_C.csv',\n",
       " 'empleados\\\\empleados_sucursal_D.csv',\n",
       " 'empleados\\\\empleados_sucursal_E.csv',\n",
       " 'empleados\\\\empleados_sucursal_F.csv',\n",
       " 'empleados\\\\empleados_sucursal_G.csv',\n",
       " 'empleados\\\\empleados_sucursal_H.csv',\n",
       " 'empleados\\\\empleados_sucursal_I.csv',\n",
       " 'empleados\\\\empleados_sucursal_J.csv',\n",
       " 'empleados\\\\empleados_sucursal_K.csv',\n",
       " 'empleados\\\\empleados_sucursal_L.csv',\n",
       " 'empleados\\\\empleados_sucursal_M.csv',\n",
       " 'empleados\\\\empleados_sucursal_N.csv',\n",
       " 'empleados\\\\empleados_sucursal_O.csv']"
      ]
     },
     "execution_count": 3,
     "metadata": {},
     "output_type": "execute_result"
    }
   ],
   "source": [
    "datos = glob(\"empleados/*.csv\")\n",
    "datos"
   ]
  },
  {
   "cell_type": "code",
   "execution_count": 4,
   "metadata": {},
   "outputs": [
    {
     "data": {
      "text/html": [
       "<div>\n",
       "<style scoped>\n",
       "    .dataframe tbody tr th:only-of-type {\n",
       "        vertical-align: middle;\n",
       "    }\n",
       "\n",
       "    .dataframe tbody tr th {\n",
       "        vertical-align: top;\n",
       "    }\n",
       "\n",
       "    .dataframe thead th {\n",
       "        text-align: right;\n",
       "    }\n",
       "</style>\n",
       "<table border=\"1\" class=\"dataframe\">\n",
       "  <thead>\n",
       "    <tr style=\"text-align: right;\">\n",
       "      <th></th>\n",
       "      <th>id</th>\n",
       "      <th>nombre</th>\n",
       "    </tr>\n",
       "  </thead>\n",
       "  <tbody>\n",
       "    <tr>\n",
       "      <th>0</th>\n",
       "      <td>99-4094901</td>\n",
       "      <td>Clarisse</td>\n",
       "    </tr>\n",
       "    <tr>\n",
       "      <th>1</th>\n",
       "      <td>26-6370584</td>\n",
       "      <td>Ludovico</td>\n",
       "    </tr>\n",
       "    <tr>\n",
       "      <th>2</th>\n",
       "      <td>52-7669688</td>\n",
       "      <td>Hunfredo</td>\n",
       "    </tr>\n",
       "    <tr>\n",
       "      <th>3</th>\n",
       "      <td>09-6282213</td>\n",
       "      <td>Stacie</td>\n",
       "    </tr>\n",
       "    <tr>\n",
       "      <th>4</th>\n",
       "      <td>98-6095003</td>\n",
       "      <td>Alison</td>\n",
       "    </tr>\n",
       "    <tr>\n",
       "      <th>...</th>\n",
       "      <td>...</td>\n",
       "      <td>...</td>\n",
       "    </tr>\n",
       "    <tr>\n",
       "      <th>5</th>\n",
       "      <td>58-3268041</td>\n",
       "      <td>Kristal</td>\n",
       "    </tr>\n",
       "    <tr>\n",
       "      <th>6</th>\n",
       "      <td>90-3827618</td>\n",
       "      <td>Otho</td>\n",
       "    </tr>\n",
       "    <tr>\n",
       "      <th>7</th>\n",
       "      <td>78-9151673</td>\n",
       "      <td>Rupert</td>\n",
       "    </tr>\n",
       "    <tr>\n",
       "      <th>8</th>\n",
       "      <td>70-8330847</td>\n",
       "      <td>Dmitri</td>\n",
       "    </tr>\n",
       "    <tr>\n",
       "      <th>9</th>\n",
       "      <td>38-7030185</td>\n",
       "      <td>Jocelyn</td>\n",
       "    </tr>\n",
       "  </tbody>\n",
       "</table>\n",
       "<p>150 rows × 2 columns</p>\n",
       "</div>"
      ],
      "text/plain": [
       "            id    nombre\n",
       "0   99-4094901  Clarisse\n",
       "1   26-6370584  Ludovico\n",
       "2   52-7669688  Hunfredo\n",
       "3   09-6282213    Stacie\n",
       "4   98-6095003    Alison\n",
       "..         ...       ...\n",
       "5   58-3268041   Kristal\n",
       "6   90-3827618      Otho\n",
       "7   78-9151673    Rupert\n",
       "8   70-8330847    Dmitri\n",
       "9   38-7030185   Jocelyn\n",
       "\n",
       "[150 rows x 2 columns]"
      ]
     },
     "execution_count": 4,
     "metadata": {},
     "output_type": "execute_result"
    }
   ],
   "source": [
    "dataset = []\n",
    "\n",
    "for i in datos:\n",
    "    df = pd.read_csv(i, usecols=['id', 'nombre'])\n",
    "    dataset.append(df)\n",
    "    \n",
    "dfx = pd.concat(dataset)\n",
    "dfx"
   ]
  },
  {
   "cell_type": "code",
   "execution_count": 5,
   "metadata": {},
   "outputs": [],
   "source": [
    "dfx.to_csv('empleados_id.csv', index=False)"
   ]
  }
 ],
 "metadata": {
  "kernelspec": {
   "display_name": "Python 3",
   "language": "python",
   "name": "python3"
  },
  "language_info": {
   "codemirror_mode": {
    "name": "ipython",
    "version": 3
   },
   "file_extension": ".py",
   "mimetype": "text/x-python",
   "name": "python",
   "nbconvert_exporter": "python",
   "pygments_lexer": "ipython3",
   "version": "3.12.2"
  }
 },
 "nbformat": 4,
 "nbformat_minor": 2
}
