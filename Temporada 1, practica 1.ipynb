{
 "cells": [
  {
   "cell_type": "markdown",
   "metadata": {},
   "source": [
    "Practica 1, temporada 1"
   ]
  },
  {
   "cell_type": "markdown",
   "metadata": {},
   "source": [
    "Escribe un programa que pida al usuario ingresar su nombre, apellido, edad y altura.\n",
    "Almacena esta información en variables.\n",
    "Muestra la información del usuario en una oración que diga: \"El usuario [Nombre] [Apellido] tiene [Edad] años y una altura de [Altura] metros.\""
   ]
  },
  {
   "cell_type": "code",
   "execution_count": 2,
   "metadata": {},
   "outputs": [
    {
     "name": "stdout",
     "output_type": "stream",
     "text": [
      "El usuario Letizia Rosa tiene 19 años y una altura de 1.65  metros\n"
     ]
    }
   ],
   "source": [
    "Nombre = input(\"Escribe tu nombre: \")\n",
    "Apellido = input(\"Escribe tu apellido: \")\n",
    "Edad = input(\"Escribe tu edad: \")\n",
    "Altura = input(\"Escribe tu altura en metros\")\n",
    "print(\"El usuario\",Nombre,Apellido, \"tiene\",Edad,\"años y una altura de\",Altura,\"metros\")"
   ]
  },
  {
   "cell_type": "markdown",
   "metadata": {},
   "source": [
    "Escribe un programa que pida al usuario ingresar su peso en kilogramos y su altura en metros.\n",
    "Calcula el IMC utilizando la fórmula mencionada.\n",
    "Muestra el IMC del usuario con un mensaje que diga: \"Tu IMC es [IMC].\""
   ]
  },
  {
   "cell_type": "code",
   "execution_count": 8,
   "metadata": {},
   "outputs": [
    {
     "name": "stdout",
     "output_type": "stream",
     "text": [
      "Tu IMC es 18.549127640036733\n"
     ]
    }
   ],
   "source": [
    "Peso = float(input(\"Ingresa tu peso en kilogramos: \"))\n",
    "Estatura = float(input(\"Ingresa tu altura en metros: \"))\n",
    "\n",
    "IMC = Peso/(Estatura**2)\n",
    "\n",
    "print(\"Tu IMC es\", IMC)"
   ]
  },
  {
   "cell_type": "markdown",
   "metadata": {},
   "source": [
    "Escribe un programa que pida al usuario ingresar su edad.\n",
    "Utiliza una estructura condicional para determinar si la persona es un adulto (18 años o más) o un menor (menos de 18 años).\n",
    "Muestra un mensaje que diga: \"Eres adulto\" o \"Eres menor\", según corresponda."
   ]
  },
  {
   "cell_type": "code",
   "execution_count": 9,
   "metadata": {},
   "outputs": [
    {
     "name": "stdout",
     "output_type": "stream",
     "text": [
      "Eres menor\n"
     ]
    }
   ],
   "source": [
    "Edad = int(input(\"Ingresa tu edad: \"))\n",
    "\n",
    "if Edad < 18:\n",
    "    print(\"Eres menor\")\n",
    "else:\n",
    "    print(\"Eres adulto\")"
   ]
  },
  {
   "cell_type": "markdown",
   "metadata": {},
   "source": [
    "Escribe un programa que permita al usuario agregar ítems a una lista de compras hasta que decida dejar de agregar más ítems.\n",
    "Una vez que el usuario decida detenerse, muestra todos los ítems que han sido agregados a la lista."
   ]
  },
  {
   "cell_type": "code",
   "execution_count": 3,
   "metadata": {},
   "outputs": [
    {
     "name": "stdout",
     "output_type": "stream",
     "text": [
      "Articulos:\n",
      "Blusa\n",
      "Zapatos\n",
      "Papito\n"
     ]
    }
   ],
   "source": [
    "Items = []\n",
    "while True:\n",
    "    articulo = input(\"Ingresa un articulo: \")\n",
    "    if not articulo:\n",
    "        break\n",
    "    Items.append(articulo)\n",
    "\n",
    "print(\"Articulos:\")\n",
    "\n",
    "for articulo in Items:\n",
    "    print(articulo)"
   ]
  },
  {
   "cell_type": "markdown",
   "metadata": {},
   "source": [
    "Escribe un programa que permita al usuario ingresar una serie de notas.\n",
    "Calcula el promedio de las notas ingresadas.\n",
    "Muestra el promedio con un mensaje que diga: \"El promedio de tus notas es [Promedio].\""
   ]
  },
  {
   "cell_type": "code",
   "execution_count": 14,
   "metadata": {},
   "outputs": [
    {
     "name": "stdout",
     "output_type": "stream",
     "text": [
      "El promedio de tus notas es: 95.0\n"
     ]
    }
   ],
   "source": [
    "calificaciones = []\n",
    "while True:\n",
    "    calificacion = input(\"Ingresa una calificacion (solo numeros enteros): \")\n",
    "    if not calificacion:\n",
    "        break\n",
    "    calificacion = float(calificacion)\n",
    "    calificaciones.append(calificacion)\n",
    "\n",
    "promedio = sum(calificaciones)/len(calificaciones)\n",
    "print(\"El promedio de tus notas es:\",promedio)"
   ]
  },
  {
   "cell_type": "markdown",
   "metadata": {},
   "source": [
    "Escribe un programa que convierta una temperatura de Celsius a Fahrenheit.\n",
    "Escribe un programa que convierta una temperatura de Fahrenheit a Celsius.\n",
    "Utilize este programa para convertir una temperatura dada en ambas direcciones y muestra los resultados."
   ]
  },
  {
   "cell_type": "code",
   "execution_count": 9,
   "metadata": {},
   "outputs": [
    {
     "name": "stdout",
     "output_type": "stream",
     "text": [
      "32.0 grados Celsius son 89.6 grados Fahrenheit\n"
     ]
    }
   ],
   "source": [
    "celcius = \"C\"\n",
    "fahrenheit = \"F\"\n",
    "\n",
    "grado_a_convertir = float(input(\"Ingresa cantidad de grados: \"))\n",
    "entrada = input(\"Ingrese medida a convertir (F o C):\")\n",
    "salida = input(\"Ingrese medida a obtener (F o C):\")\n",
    "\n",
    "if entrada == celcius and salida == fahrenheit:\n",
    "    gradosc_a_f =  (grado_a_convertir * (9/5) + 32)\n",
    "    print(grado_a_convertir,\"grados Celsius son\",gradosc_a_f,\"grados Fahrenheit\")\n",
    "elif entrada == fahrenheit and salida == celcius:\n",
    "    gradosf_a_c =  ((grado_a_convertir - 32) * 5/9)\n",
    "    print(grado_a_convertir,\"grados Fahrenheit son\",gradosf_a_c,\"grados Celcius\")\n",
    "else:\n",
    "    print(\"Revise los parametros de entrada\")"
   ]
  }
 ],
 "metadata": {
  "kernelspec": {
   "display_name": "Python 3",
   "language": "python",
   "name": "python3"
  },
  "language_info": {
   "codemirror_mode": {
    "name": "ipython",
    "version": 3
   },
   "file_extension": ".py",
   "mimetype": "text/x-python",
   "name": "python",
   "nbconvert_exporter": "python",
   "pygments_lexer": "ipython3",
   "version": "3.11.7"
  }
 },
 "nbformat": 4,
 "nbformat_minor": 2
}
